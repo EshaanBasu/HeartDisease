{
 "cells": [
  {
   "cell_type": "code",
   "id": "initial_id",
   "metadata": {
    "collapsed": true,
    "ExecuteTime": {
     "end_time": "2024-08-01T09:47:58.518945Z",
     "start_time": "2024-08-01T09:47:57.852144Z"
    }
   },
   "source": [
    "import pandas as pd\n",
    "import numpy as np\n",
    "import os\n",
    "\n",
    "hd = pd.read_table('heart_2020_cleaned.csv', sep = ',')\n",
    "# print(hd['BMI'].mean())\n",
    "\n",
    "# function for getting yes/no proportions\n",
    "def getData(data):\n",
    "    noCount = 0\n",
    "    yesCount = 0\n",
    "    for i in range(len(data)):\n",
    "        if data[i] == 'Yes':\n",
    "            yesCount = yesCount + 1\n",
    "        if data[i] == 'No':\n",
    "            noCount = noCount + 1\n",
    "    return np.array([[data.name, yesCount, noCount, (yesCount/(yesCount + noCount))]])\n",
    "\n",
    "# function for getting numerical data\n",
    "def getStats(data):\n",
    "    statList = np.array([[data.name, data.mean(), data.median() , data.mode(), data.min(), data.max(), data.max() - data.min() , data.std(), data.var(), data.quantile(.25), data.quantile(.75)]], dtype = object)\n",
    "    return statList\n",
    "\n",
    "# getting y/n data\n",
    "def binData(datfram):\n",
    "    binArr = np.empty((1,4), dtype = object)\n",
    "    for col in datfram.columns.values.tolist():\n",
    "        if datfram[col][0] == 'Yes' or hd[col][0] == 'no':\n",
    "            #print(col)\n",
    "            currData1 = getData(datfram[col])\n",
    "            binArr = np.concatenate((binArr, currData1), axis = 0)\n",
    "            #print(currData1)\n",
    "    binDF = pd.DataFrame(binArr, columns = ['stat','yes', 'no', 'percent yes'])\n",
    "    binDF = binDF.drop(0, axis = 'rows')\n",
    "    return binDF\n",
    "\n",
    "\n",
    "# getting numercal data\n",
    "def numData(datfram):\n",
    "    statArr = np.empty((1,11), dtype = object)\n",
    "    for col in datfram.columns.values.tolist():\n",
    "        if isinstance(datfram[col][0], float):\n",
    "            currData2 = getStats(datfram[col])\n",
    "            statArr = np.concatenate((statArr, currData2), axis = 0)\n",
    "    \n",
    "    statDF = pd.DataFrame(statArr, columns = ['measurement','mean', 'median', 'mode', 'min', 'max', 'range','std', 'var', '25th percentile', '75th percentile'])\n",
    "    statDF = statDF.drop(0, axis = 'rows')\n",
    "    return statDF\n",
    "\n",
    "\n",
    "\n",
    "def dataGiven(colName, option):\n",
    "    newDF = hd[hd[colName] == option]\n",
    "    newDF = newDF.reset_index(drop=True)\n",
    "    return(newDF)"
   ],
   "outputs": [],
   "execution_count": 3
  },
  {
   "metadata": {
    "ExecuteTime": {
     "end_time": "2024-08-01T09:50:37.611893Z",
     "start_time": "2024-08-01T09:50:36.971962Z"
    }
   },
   "cell_type": "code",
   "source": [
    "# Null value analysis\n",
    "for col in hd.columns.values.tolist():\n",
    "    for entry in hd[col]:\n",
    "       if entry is None:\n",
    "           print(col + ': ' + entry)"
   ],
   "id": "d1e911272da57c1c",
   "outputs": [],
   "execution_count": 7
  },
  {
   "metadata": {},
   "cell_type": "markdown",
   "source": "Establishing pairwise correlations CSV folder:",
   "id": "81cd208c08b80f9c"
  },
  {
   "metadata": {
    "ExecuteTime": {
     "end_time": "2024-08-01T09:52:18.404748Z",
     "start_time": "2024-08-01T09:52:18.040760Z"
    }
   },
   "cell_type": "code",
   "source": [
    "corrFolderPath = '/home/eshaanbasu/PycharmProjects/HeartStatistics/CorrelationMatrices'\n",
    "mainFolderPath = (corrFolderPath, 'mainCM.csv')\n",
    "HeartDiseaseCorrFile = os.path.join(corrFolderPath, 'HeardDiseaseCM.csv')\n",
    "SmokingCorrFile = os.path.join(corrFolderPath,'Smoking.csv')\n",
    "AlcoholCorrFile = os.path.join(corrFolderPath,'AlcoholCM.csv')\n",
    "StrokeCorrFile = os.path.join(corrFolderPath,'StrokeCM.csv')\n",
    "DiffWalkCorrFile = os.path.join(corrFolderPath,'DiffWalkingCM.csv')\n",
    "SexCorrFile = os.path.join(corrFolderPath,'SexCM.csv')\n",
    "\n",
    "# CMmain = hd.corr(numeric_only= True)\n",
    "# CMmain.to_csv((mainFolderPath))\n",
    "\n",
    "CMsex = dataGiven('Sex', 'Male').corr(numeric_only= True)\n",
    "CMsex.to_csv((SexCorrFile))\n",
    "\n",
    "CMhd = dataGiven('HeartDisease', 'Yes').corr(numeric_only= True)\n",
    "CMhd.to_csv((HeartDiseaseCorrFile))\n",
    "\n",
    "CMsmoking = dataGiven('Smoking', 'Yes').corr(numeric_only= True)\n",
    "CMsmoking.to_csv((SmokingCorrFile))\n",
    "\n",
    "CMalcohol = dataGiven('AlcoholDrinking', 'Yes').corr(numeric_only= True)\n",
    "CMalcohol.to_csv((AlcoholCorrFile))\n",
    "\n",
    "CMstroke = dataGiven('Stroke', 'Yes').corr(numeric_only= True)\n",
    "CMstroke.to_csv((StrokeCorrFile))\n",
    "\n",
    "CMdw = dataGiven('DiffWalking', 'Yes').corr(numeric_only= True)\n",
    "CMdw.to_csv((DiffWalkCorrFile))"
   ],
   "id": "5d0a5dfbeb4a0019",
   "outputs": [],
   "execution_count": 8
  },
  {
   "metadata": {},
   "cell_type": "markdown",
   "source": "",
   "id": "b2bacfad60ac101e"
  },
  {
   "metadata": {},
   "cell_type": "markdown",
   "source": "Conditional Data CSV Folder:",
   "id": "82741d9a4d5961a7"
  },
  {
   "metadata": {
    "ExecuteTime": {
     "end_time": "2024-08-01T09:57:38.897576Z",
     "start_time": "2024-08-01T09:57:27.656448Z"
    }
   },
   "cell_type": "code",
   "source": [
    "condFolderPath = '/home/eshaanbasu/PycharmProjects/HeartStatistics/ConditionalData'\n",
    "\n",
    "mainQual = os.path.join(condFolderPath, 'mainCQ.csv')\n",
    "mainNum = os.path.join(condFolderPath, 'mainCN.csv')\n",
    "numData(hd).to_csv(mainNum)\n",
    "binData(hd).to_csv(mainNum)\n",
    "\n",
    "mainQual = os.path.join(condFolderPath, 'mainCQ.csv')\n",
    "mainNum = os.path.join(condFolderPath, 'mainCN.csv')\n",
    "numData(hd).to_csv(mainNum)\n",
    "binData(hd).to_csv(mainNum)\n",
    "\n",
    "numData(dataGiven('Sex', 'Male')).to_csv(os.path.join(condFolderPath, 'male.csv'))\n",
    "numData(dataGiven('Sex', 'Female')).to_csv(os.path.join(condFolderPath, 'female.csv'))\n",
    "\n",
    "numData(dataGiven('HeartDisease', 'Yes')).to_csv(os.path.join(condFolderPath, 'yHeartDiseasecsv'))\n",
    "numData(dataGiven('HeartDisease', 'No')).to_csv(os.path.join(condFolderPath, 'nHeartDisease.csv'))\n",
    "\n",
    "numData(dataGiven('AlcoholDrinking', 'Yes')).to_csv(os.path.join(condFolderPath, 'yAlcoholDrinking.csv'))\n",
    "numData(dataGiven('AlcoholDrinking', 'No')).to_csv(os.path.join(condFolderPath, 'nAlcoholDrinking.csv'))\n",
    "\n",
    "numData(dataGiven('Smoking', 'Yes')).to_csv(os.path.join(condFolderPath, 'ySmoking.csv'))\n",
    "numData(dataGiven('Smoking', 'No')).to_csv(os.path.join(condFolderPath, 'nSmoking.csv'))\n",
    "\n",
    "numData(dataGiven('Stroke', 'Yes')).to_csv(os.path.join(condFolderPath, 'yStroke.csv'))\n",
    "numData(dataGiven('Stroke', 'No')).to_csv(os.path.join(condFolderPath, 'nStroke.csv'))\n",
    "\n",
    "numData(dataGiven('DiffWalking', 'Yes')).to_csv(os.path.join(condFolderPath, 'yDiffWalking.csv'))\n",
    "numData(dataGiven('DiffWalking', 'No')).to_csv(os.path.join(condFolderPath, 'nDiffWalking.csv'))"
   ],
   "id": "8452941b8f0e4213",
   "outputs": [],
   "execution_count": 10
  },
  {
   "metadata": {},
   "cell_type": "markdown",
   "source": "Age CSV Folder",
   "id": "e7aa5fee5e3f0b1d"
  },
  {
   "metadata": {},
   "cell_type": "code",
   "outputs": [],
   "execution_count": null,
   "source": "",
   "id": "1a701e41ceb17cc7"
  }
 ],
 "metadata": {
  "kernelspec": {
   "display_name": "Python 3",
   "language": "python",
   "name": "python3"
  },
  "language_info": {
   "codemirror_mode": {
    "name": "ipython",
    "version": 2
   },
   "file_extension": ".py",
   "mimetype": "text/x-python",
   "name": "python",
   "nbconvert_exporter": "python",
   "pygments_lexer": "ipython2",
   "version": "2.7.6"
  }
 },
 "nbformat": 4,
 "nbformat_minor": 5
}
